{
 "cells": [
  {
   "cell_type": "code",
   "execution_count": 3,
   "metadata": {},
   "outputs": [],
   "source": [
    "from keras.datasets import reuters\n",
    "\n",
    "(train_data, train_labels), (test_data, test_labels) = reuters.load_data(\n",
    "    num_words=10000)\n"
   ]
  },
  {
   "cell_type": "code",
   "execution_count": null,
   "metadata": {},
   "outputs": [],
   "source": [
    "#classifying Reuters newswires into 46 mutually exclusive topics, each data point in its own category. (multilabel, multiclass classification problem)\n",
    "#text classification \n",
    "#10,000 most frequently used words found in data"
   ]
  },
  {
   "cell_type": "code",
   "execution_count": 4,
   "metadata": {},
   "outputs": [
    {
     "data": {
      "text/plain": [
       "8982"
      ]
     },
     "execution_count": 4,
     "metadata": {},
     "output_type": "execute_result"
    }
   ],
   "source": [
    "len(train_data)"
   ]
  },
  {
   "cell_type": "code",
   "execution_count": 5,
   "metadata": {},
   "outputs": [
    {
     "data": {
      "text/plain": [
       "2246"
      ]
     },
     "execution_count": 5,
     "metadata": {},
     "output_type": "execute_result"
    }
   ],
   "source": [
    "len(test_data)"
   ]
  },
  {
   "cell_type": "code",
   "execution_count": 6,
   "metadata": {},
   "outputs": [
    {
     "data": {
      "text/plain": [
       "[1,\n",
       " 245,\n",
       " 273,\n",
       " 207,\n",
       " 156,\n",
       " 53,\n",
       " 74,\n",
       " 160,\n",
       " 26,\n",
       " 14,\n",
       " 46,\n",
       " 296,\n",
       " 26,\n",
       " 39,\n",
       " 74,\n",
       " 2979,\n",
       " 3554,\n",
       " 14,\n",
       " 46,\n",
       " 4689,\n",
       " 4329,\n",
       " 86,\n",
       " 61,\n",
       " 3499,\n",
       " 4795,\n",
       " 14,\n",
       " 61,\n",
       " 451,\n",
       " 4329,\n",
       " 17,\n",
       " 12]"
      ]
     },
     "execution_count": 6,
     "metadata": {},
     "output_type": "execute_result"
    }
   ],
   "source": [
    "train_data[10]"
   ]
  },
  {
   "cell_type": "code",
   "execution_count": 7,
   "metadata": {},
   "outputs": [],
   "source": [
    "#decoding newswires back to text\n",
    "word_index = reuters.get_word_index()\n",
    "reverse_word_index = dict([(value, key) for (key, value) in word_index.items()])\n",
    "decoded_newswire = ' '.join([reverse_word_index.get(i - 3, '?') for i in\n",
    "\n",
    "train_data[0]]) #Note that the indices are offset by 3 because 0, 1, and 2 are reserved indices for “padding,” “start of sequence,” and “unknown.”"
   ]
  },
  {
   "cell_type": "code",
   "execution_count": 8,
   "metadata": {},
   "outputs": [
    {
     "data": {
      "text/plain": [
       "3"
      ]
     },
     "execution_count": 8,
     "metadata": {},
     "output_type": "execute_result"
    }
   ],
   "source": [
    "#integer between 0 and 45\n",
    "train_labels[10]"
   ]
  },
  {
   "cell_type": "code",
   "execution_count": 9,
   "metadata": {},
   "outputs": [],
   "source": [
    "#Encoding data(vectorize)\n",
    "import numpy as np\n",
    "\n",
    "def vectorize_sequences(sequences, dimension=10000):\n",
    "    results = np.zeros((len(sequences), dimension))\n",
    "    for i, sequence in enumerate(sequences):\n",
    "        results[i, sequence] = 1. \n",
    "    return results\n",
    "    \n",
    "x_train = vectorize_sequences(train_data) #vectorize train\n",
    "x_test = vectorize_sequences(test_data) #vectorize test"
   ]
  },
  {
   "cell_type": "code",
   "execution_count": 10,
   "metadata": {},
   "outputs": [],
   "source": [
    "#Catergorical encoding (embedding each label as an all-zero vector with a 1 in the place of the label index)\n",
    "def to_one_hot(labels, dimension=46):\n",
    "    results = np.zeros((len(labels), dimension))\n",
    "    for i, label in enumerate(labels):\n",
    "         results[i, label] = 1. \n",
    "    return results\n",
    "    \n",
    "one_hot_train_labels = to_one_hot(train_labels)\n",
    "one_hot_test_labels = to_one_hot(test_labels)\n",
    "#Vectorized training labels Vectorized test labels"
   ]
  },
  {
   "cell_type": "code",
   "execution_count": 11,
   "metadata": {},
   "outputs": [],
   "source": [
    "#build in way to catergorical encoding for Keras \n",
    "from keras.utils.np_utils import to_categorical\n",
    "        \n",
    "one_hot_train_labels = to_categorical(train_labels)\n",
    "one_hot_test_labels = to_categorical(test_labels)"
   ]
  },
  {
   "cell_type": "code",
   "execution_count": 12,
   "metadata": {},
   "outputs": [],
   "source": [
    "#Building Network (Classifying short snippets of text with 46 output classes) meaning larger dimensionality output space \n",
    "#potential info bottleneck with 16 so we use 64 units\n",
    "\n",
    "from keras import models\n",
    "from keras import layers\n",
    "model = models.Sequential()\n",
    "model.add(layers.Dense(64, activation='relu', input_shape=(10000,)))\n",
    "model.add(layers.Dense(64, activation='relu'))\n",
    "model.add(layers.Dense(46, activation='softmax'))\n",
    "\n",
    "#46 dimensional vector at the end with softmax activation (probability distrbution over 46 differnt output classes)\n",
    "#output [i] is probability that the sample belongs to class i. the 46 scores will sum to 1"
   ]
  },
  {
   "cell_type": "code",
   "execution_count": 13,
   "metadata": {},
   "outputs": [],
   "source": [
    "#categorical_crossentropy is measuring distance between probability distrbution output by network and the true distribution of the labels\n",
    "#minimizing will train network to output something as close as possible to true labels\n",
    "\n",
    "model.compile(optimizer='rmsprop',\n",
    "              loss='categorical_crossentropy',\n",
    "              metrics=['accuracy'])"
   ]
  },
  {
   "cell_type": "code",
   "execution_count": 14,
   "metadata": {},
   "outputs": [],
   "source": [
    "#Lets set aside our 1000 samples in training data for validation set \n",
    "\n",
    "x_val = x_train[:1000]\n",
    "partial_x_train = x_train[1000:]\n",
    "y_val = one_hot_train_labels[:1000]\n",
    "partial_y_train = one_hot_train_labels[1000:]"
   ]
  },
  {
   "cell_type": "code",
   "execution_count": 15,
   "metadata": {},
   "outputs": [
    {
     "name": "stdout",
     "output_type": "stream",
     "text": [
      "Train on 7982 samples, validate on 1000 samples\n",
      "Epoch 1/20\n",
      "7982/7982 [==============================] - 3s 329us/step - loss: 2.5987 - accuracy: 0.4900 - val_loss: 1.7153 - val_accuracy: 0.6380\n",
      "Epoch 2/20\n",
      "7982/7982 [==============================] - 1s 188us/step - loss: 1.3951 - accuracy: 0.7056 - val_loss: 1.2793 - val_accuracy: 0.7150\n",
      "Epoch 3/20\n",
      "7982/7982 [==============================] - 1s 170us/step - loss: 1.0214 - accuracy: 0.7767 - val_loss: 1.1039 - val_accuracy: 0.7690\n",
      "Epoch 4/20\n",
      "7982/7982 [==============================] - 2s 214us/step - loss: 0.7998 - accuracy: 0.8305 - val_loss: 1.0128 - val_accuracy: 0.7860\n",
      "Epoch 5/20\n",
      "7982/7982 [==============================] - 1s 177us/step - loss: 0.6339 - accuracy: 0.8643 - val_loss: 0.9547 - val_accuracy: 0.8000\n",
      "Epoch 6/20\n",
      "7982/7982 [==============================] - 1s 148us/step - loss: 0.5072 - accuracy: 0.8925 - val_loss: 0.9209 - val_accuracy: 0.8100\n",
      "Epoch 7/20\n",
      "7982/7982 [==============================] - 1s 153us/step - loss: 0.4112 - accuracy: 0.9128 - val_loss: 0.8963 - val_accuracy: 0.8160\n",
      "Epoch 8/20\n",
      "7982/7982 [==============================] - 1s 135us/step - loss: 0.3332 - accuracy: 0.9303 - val_loss: 0.8855 - val_accuracy: 0.8190\n",
      "Epoch 9/20\n",
      "7982/7982 [==============================] - 1s 155us/step - loss: 0.2744 - accuracy: 0.9396 - val_loss: 0.9063 - val_accuracy: 0.8040\n",
      "Epoch 10/20\n",
      "7982/7982 [==============================] - 1s 141us/step - loss: 0.2328 - accuracy: 0.9456 - val_loss: 0.9466 - val_accuracy: 0.8050\n",
      "Epoch 11/20\n",
      "7982/7982 [==============================] - 1s 158us/step - loss: 0.2058 - accuracy: 0.9493 - val_loss: 0.9269 - val_accuracy: 0.8110\n",
      "Epoch 12/20\n",
      "7982/7982 [==============================] - 1s 141us/step - loss: 0.1807 - accuracy: 0.9521 - val_loss: 0.9277 - val_accuracy: 0.8110\n",
      "Epoch 13/20\n",
      "7982/7982 [==============================] - 1s 161us/step - loss: 0.1591 - accuracy: 0.9550 - val_loss: 0.9705 - val_accuracy: 0.8090\n",
      "Epoch 14/20\n",
      "7982/7982 [==============================] - 1s 162us/step - loss: 0.1495 - accuracy: 0.9549 - val_loss: 0.9775 - val_accuracy: 0.8050\n",
      "Epoch 15/20\n",
      "7982/7982 [==============================] - 1s 156us/step - loss: 0.1359 - accuracy: 0.9569 - val_loss: 1.0347 - val_accuracy: 0.7990\n",
      "Epoch 16/20\n",
      "7982/7982 [==============================] - 1s 151us/step - loss: 0.1293 - accuracy: 0.9575 - val_loss: 0.9904 - val_accuracy: 0.8180\n",
      "Epoch 17/20\n",
      "7982/7982 [==============================] - 1s 150us/step - loss: 0.1211 - accuracy: 0.9569 - val_loss: 1.0554 - val_accuracy: 0.8000\n",
      "Epoch 18/20\n",
      "7982/7982 [==============================] - 1s 140us/step - loss: 0.1220 - accuracy: 0.9567 - val_loss: 1.1656 - val_accuracy: 0.7850\n",
      "Epoch 19/20\n",
      "7982/7982 [==============================] - 1s 142us/step - loss: 0.1129 - accuracy: 0.9551 - val_loss: 1.0439 - val_accuracy: 0.8040\n",
      "Epoch 20/20\n",
      "7982/7982 [==============================] - 1s 136us/step - loss: 0.1081 - accuracy: 0.9588 - val_loss: 1.0691 - val_accuracy: 0.8090\n"
     ]
    }
   ],
   "source": [
    "#Train the model \n",
    "\n",
    "history = model.fit(partial_x_train, partial_y_train,\n",
    "                    epochs=20,\n",
    "                    batch_size=512,\n",
    "                    validation_data=(x_val, y_val))"
   ]
  },
  {
   "cell_type": "code",
   "execution_count": 18,
   "metadata": {},
   "outputs": [
    {
     "data": {
      "image/png": "[encoded data removed]",
      "text/plain": [
       "<Figure size 432x288 with 1 Axes>"
      ]
     },
     "metadata": {
      "needs_background": "light"
     },
     "output_type": "display_data"
    }
   ],
   "source": [
    "#Display loss and accuracy curves using matplotlib\n",
    "\n",
    "import matplotlib.pyplot as plt\n",
    "\n",
    "loss = history.history['loss']\n",
    "val_loss = history.history['val_loss']\n",
    "\n",
    "epochs = range(1, len(loss) + 1)\n",
    "\n",
    "plt.plot(epochs, loss, 'bo', label='Training loss')\n",
    "plt.plot(epochs, val_loss, 'b', label='Validation loss')\n",
    "plt.title('Training and validation loss')\n",
    "plt.xlabel('Epochs')\n",
    "plt.ylabel('Loss')\n",
    "plt.legend()\n",
    "\n",
    "plt.show()"
   ]
  },
  {
   "cell_type": "code",
   "execution_count": 17,
   "metadata": {},
   "outputs": [
    {
     "data": {
      "image/png": "[encoded data removed]",
      "text/plain": [
       "<Figure size 432x288 with 1 Axes>"
      ]
     },
     "metadata": {
      "needs_background": "light"
     },
     "output_type": "display_data"
    }
   ],
   "source": [
    "#Plotting the training and validation accuracy\n",
    "\n",
    "plt.clf()\n",
    "\n",
    "acc = history.history['accuracy']\n",
    "val_acc = history.history['val_accuracy']\n",
    "\n",
    "plt.plot(epochs, acc, 'bo', label='Training acc')\n",
    "plt.plot(epochs, val_acc, 'b', label='Validation acc')\n",
    "plt.title('Training and validation accuracy')\n",
    "plt.xlabel('Epochs')\n",
    "plt.ylabel('Loss')\n",
    "plt.legend()\n",
    "\n",
    "plt.show()"
   ]
  },
  {
   "cell_type": "markdown",
   "metadata": {},
   "source": [
    "- The network begins to overfit after nine epochs. Let’s train a new network from scratch for nine epochs and then evaluate it on the test set."
   ]
  },
  {
   "cell_type": "code",
   "execution_count": 23,
   "metadata": {},
   "outputs": [
    {
     "name": "stdout",
     "output_type": "stream",
     "text": [
      "Train on 7982 samples, validate on 1000 samples\n",
      "Epoch 1/9\n",
      "7982/7982 [==============================] - 2s 232us/step - loss: 2.7407 - accuracy: 0.5460 - val_loss: 1.8234 - val_accuracy: 0.6390\n",
      "Epoch 2/9\n",
      "7982/7982 [==============================] - 1s 162us/step - loss: 1.4511 - accuracy: 0.7093 - val_loss: 1.3086 - val_accuracy: 0.7240\n",
      "Epoch 3/9\n",
      "7982/7982 [==============================] - 1s 142us/step - loss: 1.0510 - accuracy: 0.7830 - val_loss: 1.1824 - val_accuracy: 0.7430\n",
      "Epoch 4/9\n",
      "7982/7982 [==============================] - 2s 205us/step - loss: 0.8349 - accuracy: 0.8274 - val_loss: 1.0406 - val_accuracy: 0.7720\n",
      "Epoch 5/9\n",
      "7982/7982 [==============================] - 1s 164us/step - loss: 0.6625 - accuracy: 0.8649 - val_loss: 0.9661 - val_accuracy: 0.8010\n",
      "Epoch 6/9\n",
      "7982/7982 [==============================] - 1s 168us/step - loss: 0.5347 - accuracy: 0.8903 - val_loss: 0.9258 - val_accuracy: 0.8080\n",
      "Epoch 7/9\n",
      "7982/7982 [==============================] - 1s 155us/step - loss: 0.4363 - accuracy: 0.9117 - val_loss: 0.8859 - val_accuracy: 0.8160\n",
      "Epoch 8/9\n",
      "7982/7982 [==============================] - 1s 141us/step - loss: 0.3535 - accuracy: 0.9242 - val_loss: 0.9099 - val_accuracy: 0.8060\n",
      "Epoch 9/9\n",
      "7982/7982 [==============================] - 1s 146us/step - loss: 0.2922 - accuracy: 0.9362 - val_loss: 0.8887 - val_accuracy: 0.8220\n",
      "2246/2246 [==============================] - 1s 254us/step\n"
     ]
    }
   ],
   "source": [
    "model = models.Sequential()\n",
    "model.add(layers.Dense(64, activation='relu', input_shape=(10000,))) \n",
    "model.add(layers.Dense(64, activation='relu'))\n",
    "model.add(layers.Dense(46, activation='softmax'))\n",
    "\n",
    "model.compile(optimizer='rmsprop',\n",
    "              loss='categorical_crossentropy',\n",
    "              metrics=['accuracy'])\n",
    "model.fit(partial_x_train,\n",
    "          partial_y_train,\n",
    "          epochs=9,\n",
    "          batch_size=512,\n",
    "          validation_data=(x_val, y_val))\n",
    "results = model.evaluate(x_test, one_hot_test_labels)"
   ]
  },
  {
   "cell_type": "code",
   "execution_count": 24,
   "metadata": {},
   "outputs": [
    {
     "data": {
      "text/plain": [
       "[0.9763554857972468, 0.7885128855705261]"
      ]
     },
     "execution_count": 24,
     "metadata": {},
     "output_type": "execute_result"
    }
   ],
   "source": [
    " results"
   ]
  },
  {
   "cell_type": "code",
   "execution_count": 25,
   "metadata": {},
   "outputs": [
    {
     "data": {
      "text/plain": [
       "0.19100623330365094"
      ]
     },
     "execution_count": 25,
     "metadata": {},
     "output_type": "execute_result"
    }
   ],
   "source": [
    "import copy\n",
    "test_labels_copy = copy.copy(test_labels)\n",
    "np.random.shuffle(test_labels_copy)\n",
    "hits_array = np.array(test_labels) == np.array(test_labels_copy) \n",
    "float(np.sum(hits_array)) / len(test_labels)\n"
   ]
  },
  {
   "cell_type": "code",
   "execution_count": 26,
   "metadata": {},
   "outputs": [],
   "source": [
    "#Generating predictions for new data on all 46 topics for all of the test data\n",
    "predictions = model.predict(x_test)"
   ]
  },
  {
   "cell_type": "code",
   "execution_count": 27,
   "metadata": {},
   "outputs": [
    {
     "data": {
      "text/plain": [
       "(46,)"
      ]
     },
     "execution_count": 27,
     "metadata": {},
     "output_type": "execute_result"
    }
   ],
   "source": [
    "predictions[0].shape"
   ]
  },
  {
   "cell_type": "code",
   "execution_count": 28,
   "metadata": {},
   "outputs": [
    {
     "data": {
      "text/plain": [
       "0.9999999"
      ]
     },
     "execution_count": 28,
     "metadata": {},
     "output_type": "execute_result"
    }
   ],
   "source": [
    "#Coefficients in this vector sum to 1\n",
    "np.sum(predictions[0])"
   ]
  },
  {
   "cell_type": "code",
   "execution_count": 29,
   "metadata": {},
   "outputs": [
    {
     "data": {
      "text/plain": [
       "3"
      ]
     },
     "execution_count": 29,
     "metadata": {},
     "output_type": "execute_result"
    }
   ],
   "source": [
    "#The largest entry is the predicted class the class with the highest probability  \n",
    "np.argmax(predictions[0])"
   ]
  },
  {
   "cell_type": "code",
   "execution_count": 30,
   "metadata": {},
   "outputs": [],
   "source": [
    "#Encode labels by casting them as integer tensor \n",
    "\n",
    "y_train = np.array(train_labels)\n",
    "y_test = np.array(test_labels)\n"
   ]
  },
  {
   "cell_type": "code",
   "execution_count": 31,
   "metadata": {},
   "outputs": [],
   "source": [
    "#Change loss function for integer labels using sparse_categorical_crossentropy (same as other but different interface)\n",
    "\n",
    "model.compile(optimizer='rmsprop',\n",
    "              loss='sparse_categorical_crossentropy',\n",
    "              metrics=['acc'])"
   ]
  },
  {
   "cell_type": "code",
   "execution_count": 32,
   "metadata": {},
   "outputs": [
    {
     "name": "stdout",
     "output_type": "stream",
     "text": [
      "Train on 7982 samples, validate on 1000 samples\n",
      "Epoch 1/20\n",
      "7982/7982 [==============================] - 3s 368us/step - loss: 2.9615 - accuracy: 0.3924 - val_loss: 2.3983 - val_accuracy: 0.4190\n",
      "Epoch 2/20\n",
      "7982/7982 [==============================] - 2s 191us/step - loss: 2.0695 - accuracy: 0.4546 - val_loss: 1.8623 - val_accuracy: 0.4630\n",
      "Epoch 3/20\n",
      "7982/7982 [==============================] - 2s 206us/step - loss: 1.5028 - accuracy: 0.6146 - val_loss: 1.4719 - val_accuracy: 0.6690\n",
      "Epoch 4/20\n",
      "7982/7982 [==============================] - 1s 170us/step - loss: 1.2248 - accuracy: 0.7149 - val_loss: 1.3759 - val_accuracy: 0.6810\n",
      "Epoch 5/20\n",
      "7982/7982 [==============================] - 1s 181us/step - loss: 1.0802 - accuracy: 0.7405 - val_loss: 1.3163 - val_accuracy: 0.7050\n",
      "Epoch 6/20\n",
      "7982/7982 [==============================] - 1s 187us/step - loss: 0.9763 - accuracy: 0.7642 - val_loss: 1.2814 - val_accuracy: 0.7120\n",
      "Epoch 7/20\n",
      "7982/7982 [==============================] - 2s 202us/step - loss: 0.8970 - accuracy: 0.7742 - val_loss: 1.3316 - val_accuracy: 0.7070\n",
      "Epoch 8/20\n",
      "7982/7982 [==============================] - 1s 176us/step - loss: 0.8324 - accuracy: 0.7838 - val_loss: 1.3044 - val_accuracy: 0.7090\n",
      "Epoch 9/20\n",
      "7982/7982 [==============================] - 2s 192us/step - loss: 0.7754 - accuracy: 0.7954 - val_loss: 1.3142 - val_accuracy: 0.7130\n",
      "Epoch 10/20\n",
      "7982/7982 [==============================] - 1s 181us/step - loss: 0.7292 - accuracy: 0.8004 - val_loss: 1.3497 - val_accuracy: 0.7170\n",
      "Epoch 11/20\n",
      "7982/7982 [==============================] - 1s 180us/step - loss: 0.6863 - accuracy: 0.8058 - val_loss: 1.3969 - val_accuracy: 0.7080\n",
      "Epoch 12/20\n",
      "7982/7982 [==============================] - 1s 170us/step - loss: 0.6481 - accuracy: 0.8127 - val_loss: 1.4466 - val_accuracy: 0.7070\n",
      "Epoch 13/20\n",
      "7982/7982 [==============================] - 1s 174us/step - loss: 0.6134 - accuracy: 0.8237 - val_loss: 1.4893 - val_accuracy: 0.7090\n",
      "Epoch 14/20\n",
      "7982/7982 [==============================] - 1s 172us/step - loss: 0.5820 - accuracy: 0.8287 - val_loss: 1.5309 - val_accuracy: 0.7110\n",
      "Epoch 15/20\n",
      "7982/7982 [==============================] - 2s 222us/step - loss: 0.5588 - accuracy: 0.8338 - val_loss: 1.5761 - val_accuracy: 0.6960\n",
      "Epoch 16/20\n",
      "7982/7982 [==============================] - 1s 168us/step - loss: 0.5301 - accuracy: 0.8356 - val_loss: 1.6173 - val_accuracy: 0.6950\n",
      "Epoch 17/20\n",
      "7982/7982 [==============================] - 1s 166us/step - loss: 0.5076 - accuracy: 0.8409 - val_loss: 1.6827 - val_accuracy: 0.7010\n",
      "Epoch 18/20\n",
      "7982/7982 [==============================] - 1s 179us/step - loss: 0.4892 - accuracy: 0.8433 - val_loss: 1.7080 - val_accuracy: 0.7060\n",
      "Epoch 19/20\n",
      "7982/7982 [==============================] - 2s 224us/step - loss: 0.4686 - accuracy: 0.8518 - val_loss: 1.7773 - val_accuracy: 0.7020\n",
      "Epoch 20/20\n",
      "7982/7982 [==============================] - 1s 187us/step - loss: 0.4535 - accuracy: 0.8592 - val_loss: 1.8224 - val_accuracy: 0.7030\n"
     ]
    },
    {
     "data": {
      "text/plain": [
       "<keras.callbacks.callbacks.History at 0x13bd17d10>"
      ]
     },
     "execution_count": 32,
     "metadata": {},
     "output_type": "execute_result"
    }
   ],
   "source": [
    "#Lets try a 4 dimensional intermediate layer rather than 46 to creat an information bottleneck \n",
    "\n",
    "model = models.Sequential()\n",
    "model.add(layers.Dense(64, activation='relu', input_shape=(10000,)))\n",
    "model.add(layers.Dense(4, activation='relu'))\n",
    "model.add(layers.Dense(46, activation='softmax'))\n",
    "\n",
    "model.compile(optimizer='rmsprop',\n",
    "              loss='categorical_crossentropy',\n",
    "              metrics=['accuracy'])\n",
    "model.fit(partial_x_train,\n",
    "          partial_y_train,\n",
    "          epochs=20,\n",
    "          batch_size=128,\n",
    "          validation_data=(x_val, y_val))"
   ]
  },
  {
   "cell_type": "code",
   "execution_count": 33,
   "metadata": {},
   "outputs": [],
   "source": [
    "#drop in validation accuracy because attempting to compress more info into an intermeidate space that is too low dimensional."
   ]
  },
  {
   "cell_type": "markdown",
   "metadata": {},
   "source": [
    "- Try using larger or smaller layers: 32 units, 128 units, and so on.\n",
    "- You used two hidden layers. Now try using a single hidden layer, or three hid-\n",
    "den layers."
   ]
  },
  {
   "cell_type": "markdown",
   "metadata": {},
   "source": [
    "- takeways: classification of data points for N classes is the same as a dense layer for size N at end of network "
   ]
  },
  {
   "cell_type": "markdown",
   "metadata": {},
   "source": [
    "- In single-label , multiclass classifcation problem End with softmax activation so it will output a probability distribution over the N output classes\n"
   ]
  },
  {
   "cell_type": "markdown",
   "metadata": {},
   "source": [
    "- Categorical crossentropy is almost always the loss function you should use for such problems because of minimzation for distance\n",
    "between prob dist output by network and true dist of the targets.\n"
   ]
  },
  {
   "cell_type": "markdown",
   "metadata": {},
   "source": [
    "- There are two ways to handle labels in multiclass classification:\n",
    "- Encoding the labels via categorical encoding (also known as one-hot encod-\n",
    "ing) and using categorical_crossentropy as a loss function\n",
    "- Encoding the labels as integers and using the sparse_categorical_crossentropy\n",
    "loss function\n",
    "- If you need to classify data into a large number of categories, you should avoid\n",
    "creating information bottlenecks in your network due to intermediate layers that are too small."
   ]
  },
  {
   "cell_type": "code",
   "execution_count": null,
   "metadata": {},
   "outputs": [],
   "source": []
  }
 ],
 "metadata": {
  "kernelspec": {
   "display_name": "Python 3",
   "language": "python",
   "name": "python3"
  },
  "language_info": {
   "codemirror_mode": {
    "name": "ipython",
    "version": 3
   },
   "file_extension": ".py",
   "mimetype": "text/x-python",
   "name": "python",
   "nbconvert_exporter": "python",
   "pygments_lexer": "ipython3",
   "version": "3.7.4"
  }
 },
 "nbformat": 4,
 "nbformat_minor": 4
}
